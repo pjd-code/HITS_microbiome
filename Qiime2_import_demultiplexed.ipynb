{
  "nbformat": 4,
  "nbformat_minor": 0,
  "metadata": {
    "colab": {
      "name": "Qiime2-import-demultiplexed.ipynb",
      "provenance": [],
      "authorship_tag": "ABX9TyNEHOxMpV/Hrw3J699birLX",
      "include_colab_link": true
    },
    "kernelspec": {
      "name": "python3",
      "display_name": "Python 3"
    },
    "language_info": {
      "name": "python"
    }
  },
  "cells": [
    {
      "cell_type": "markdown",
      "metadata": {
        "id": "view-in-github",
        "colab_type": "text"
      },
      "source": [
        "<a href=\"https://colab.research.google.com/github/pjd-code/HITS_microbiome/blob/main/Qiime2_import_demultiplexed.ipynb\" target=\"_parent\"><img src=\"https://colab.research.google.com/assets/colab-badge.svg\" alt=\"Open In Colab\"/></a>"
      ]
    },
    {
      "cell_type": "code",
      "metadata": {
        "id": "XR91diLMRVel"
      },
      "source": [
        "#This block of code downloads and installs conda and qiime2\n",
        "\n",
        "#all outputs are directed to a log file using the bash pipe operator\n",
        "#updated versions of qiime2 or miniconda can be substituted\n",
        "\n",
        "#download and install miniconda\n",
        "! wget https://repo.continuum.io/miniconda/Miniconda3-4.5.4-Linux-x86_64.sh &> Logfile.txt\n",
        "! chmod +x Miniconda3-4.5.4-Linux-x86_64.sh &>> Logfile.txt\n",
        "! bash ./Miniconda3-4.5.4-Linux-x86_64.sh -b -f -p /usr/local &>> Logfile.txt\n",
        "print(\"1. Conda Installed!\")\n",
        "\n",
        "#import the python system library and append the path\n",
        "import sys\n",
        "(sys.path.append(\"/usr/local/lib/python3.6/site-packages\"))\n",
        "\n",
        "#update conda while keeping python 3.6\n",
        "! conda install --channel defaults conda python=3.6 --yes &>> Logfile.txt\n",
        "! conda update --channel defaults --all --yes &>> Logfile.txt\n",
        "print (\"\\n2. Conda Updated!\")\n",
        "\n",
        "#The instructions for this step come from https://docs.qiime2.org/2021.4/install/native/\n",
        "! wget https://data.qiime2.org/distro/core/qiime2-2021.4-py38-linux-conda.yml &>> Logfile.txt\n",
        "! conda env create -n qiime2-2021.4 --file qiime2-2021.4-py38-linux-conda.yml &>> Logfile.txt\n",
        "#cleanup\n",
        "! rm qiime2-2021.4-py36-linux-conda.yml &>> Logfile.txt\n",
        "\n",
        "! conda init &>> Logfile.txt\n",
        "print(\"\\n3. Conda Initiated!\")\n",
        "print(\"\\n4. Qiime2 Install Complete! All Qiime2 cells must start with:  source activate qiime2-2021.4\")"
      ],
      "execution_count": null,
      "outputs": []
    },
    {
      "cell_type": "code",
      "metadata": {
        "id": "RWSJpsyKqHjH"
      },
      "source": [
        "#mount the hitsmicrobime google drive so that we can get the relevant files\n",
        "#this is python code so it doesn't need the !\n",
        "\n",
        "from google.colab import drive\n",
        "drive.mount('/content/drive')\n",
        "\n"
      ],
      "execution_count": null,
      "outputs": []
    },
    {
      "cell_type": "code",
      "metadata": {
        "id": "O6UbeTkPaIkK"
      },
      "source": [
        "#the %%bash magic command makes the entire cell a bash command line cell\n",
        "%%bash \n",
        "\n",
        "#make a directory for the imported files\n",
        "mkdir /content/microbiome\n",
        "\n",
        "#move map file to microbime folder for future use\n",
        "cp /content/drive/MyDrive/Keto_Mice/map_file.txt /content/microbiome/\n",
        "\n",
        "source activate qiime2-2021.2 \n",
        "\n",
        "qiime tools import \\\n",
        "  --type 'SampleData[PairedEndSequencesWithQuality]' \\\n",
        "  --input-path /content/microbiome/map_file.txt \\\n",
        "  --output-path /content/microbiome/paired-end-demux.qza \\\n",
        "  --input-format PairedEndFastqManifestPhred33V2\n",
        "\n",
        "#supporting information can be found at https://docs.qiime2.org/2021.4/tutorials/importing/"
      ],
      "execution_count": null,
      "outputs": []
    },
    {
      "cell_type": "code",
      "metadata": {
        "id": "YGZsqZxRem95"
      },
      "source": [
        "%%bash\n",
        "source activate qiime2-2021.4\n",
        "\n",
        "cd /content/microbiome/\n",
        "\n",
        "qiime demux summarize \\\n",
        "  --i-data paired-end-demux.qza \\\n",
        "  --o-visualization paired-end-demux"
      ],
      "execution_count": null,
      "outputs": []
    },
    {
      "cell_type": "code",
      "metadata": {
        "id": "4O63cTEHiDEz"
      },
      "source": [
        "%%bash\n",
        "source activate qiime2-2021.4\n",
        "\n",
        "cd /content/microbiome/\n",
        "\n",
        "# This method denoises paired-end sequences, dereplicates them, and filters chimeras.\n",
        "# p-trunc-len-f : truncates the 3' end of the forward read sequences due to decrease in quality\n",
        "# p-trunc-len-r : truncates the 3' end of the reverse read sequences due to decrease in quality\n",
        "# p-trim-left-f : trims the 5' end of the forward read sequences due to decrease in quality\n",
        "# p-trim-left-r  : trims the 5' end of the reverse read sequences due to decrease in quality\n",
        "\n",
        "qiime dada2 denoise-paired \\\n",
        "  --i-demultiplexed-seqs paired-end-demux.qza \\\n",
        "  --p-trunc-len-f 250 \\\n",
        "  --p-trunc-len-r 140 \\\n",
        "  --p-trim-left-f 0 \\\n",
        "  --p-trim-left-r 0 \\\n",
        "  --o-representative-sequences rep-seqs-dada2.qza \\\n",
        "  --o-table table-dada2.qza \\\n",
        "  --o-denoising-stats stats-dada2.qza"
      ],
      "execution_count": null,
      "outputs": []
    },
    {
      "cell_type": "code",
      "metadata": {
        "id": "HysC_msiZzRo"
      },
      "source": [
        "%%bash\n",
        "source activate qiime2-2021.4\n",
        "\n",
        "cd /content/microbiome/\n",
        "\n",
        "qiime metadata tabulate \\\n",
        "  --m-input-file stats-dada2.qza \\\n",
        "  --o-visualization stats-dada2.qzv\n",
        "\n"
      ],
      "execution_count": null,
      "outputs": []
    },
    {
      "cell_type": "code",
      "metadata": {
        "id": "uvy3cFVReMN_"
      },
      "source": [
        "%%bash\n",
        "source activate qiime2-2021.4\n",
        "\n",
        "cd /content/microbiome/\n",
        "\n",
        "qiime phylogeny align-to-tree-mafft-fasttree \\\n",
        "  --i-sequences rep-seqs-dada2.qza \\\n",
        "  --o-alignment aligned-rep-seqs.qza \\\n",
        "  --o-masked-alignment masked-aligned-rep-seqs.qza \\\n",
        "  --o-tree unrooted-tree.qza \\\n",
        "  --o-rooted-tree rooted-tree.qza"
      ],
      "execution_count": null,
      "outputs": []
    },
    {
      "cell_type": "code",
      "metadata": {
        "id": "_43pvWHjgJOf"
      },
      "source": [
        "%%bash\n",
        "source activate qiime2-2021.4\n",
        "\n",
        "cd /content/microbiome/\n",
        "\n",
        "qiime diversity core-metrics-phylogenetic \\\n",
        "  --i-phylogeny rooted-tree.qza \\\n",
        "  --i-table table-dada2.qza \\\n",
        "  --p-sampling-depth 2000 \\\n",
        "  --m-metadata-file map_file.txt \\\n",
        "  --output-dir core-metrics-results"
      ],
      "execution_count": null,
      "outputs": []
    },
    {
      "cell_type": "code",
      "metadata": {
        "id": "OM4XPgKjhuZb"
      },
      "source": [
        "%%bash\n",
        "source activate qiime2-2021.4\n",
        "\n",
        "cd /content/microbiome/\n",
        "\n",
        "#wget \\\n",
        "#  -O \"gg-13-8-99-515-806-nb-classifier.qza\" \\\n",
        " # \"https://data.qiime2.org/2021.4/common/gg-13-8-99-nb-classifier.qza\"\n",
        "\n",
        "  qiime feature-classifier classify-sklearn \\\n",
        "  --i-classifier gg-13-8-99-515-806-nb-classifier.qza \\\n",
        "  --i-reads rep-seqs-dada2.qza \\\n",
        "  --o-classification taxonomy.qza\n",
        "\n"
      ],
      "execution_count": null,
      "outputs": []
    },
    {
      "cell_type": "code",
      "metadata": {
        "id": "ft1ZxIJdp22S"
      },
      "source": [
        "%%bash\n",
        "source activate qiime2-2021.4\n",
        "\n",
        "cd /content/microbiome/\n",
        "\n",
        "qiime metadata tabulate \\\n",
        "  --m-input-file taxonomy.qza \\\n",
        "  --o-visualization taxonomy.qzv\n"
      ],
      "execution_count": null,
      "outputs": []
    },
    {
      "cell_type": "code",
      "metadata": {
        "id": "YNxxbwXft3b7"
      },
      "source": [
        "\n",
        "%%bash\n",
        "source activate qiime2-2021.4\n",
        "\n",
        "cd /content/microbiome/\n",
        "qiime taxa barplot \\\n",
        "  --i-table table-dada2.qza \\\n",
        "  --i-taxonomy taxonomy.qza \\\n",
        "  --m-metadata-file map_file.txt \\\n",
        "  --o-visualization taxa-bar-plots.qzv"
      ],
      "execution_count": null,
      "outputs": []
    }
  ]
}